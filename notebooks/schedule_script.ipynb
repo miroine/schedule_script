{
 "cells": [
  {
   "cell_type": "code",
   "execution_count": 1,
   "metadata": {},
   "outputs": [],
   "source": [
    "import pandas as pd \n",
    "import numpy as np "
   ]
  },
  {
   "cell_type": "code",
   "execution_count": 31,
   "metadata": {},
   "outputs": [
    {
     "name": "stdout",
     "output_type": "stream",
     "text": [
      "                FGPR      FOPR      FWPR    FIELD MOTHER_FIELD\n",
      "2023-01-01  0.569350  0.064821  0.402822  FIELD_0        FIELD\n",
      "2023-01-02  0.711965  0.532466  0.774405  FIELD_0        FIELD\n",
      "2023-01-03  0.556708  0.566616  0.117166  FIELD_0        FIELD\n",
      "2023-01-04  0.418276  0.516058  0.249934  FIELD_0        FIELD\n",
      "2023-01-05  0.703697  0.583807  0.913285  FIELD_0        FIELD\n",
      "2023-01-06  0.424742  0.572168  0.030119  FIELD_0        FIELD\n",
      "2023-01-07  0.670858  0.041518  0.523945  FIELD_0        FIELD\n",
      "2023-01-08  0.800804  0.991528  0.009428  FIELD_0        FIELD\n",
      "2023-01-09  0.549338  0.115837  0.767002  FIELD_0        FIELD\n",
      "2023-01-10  0.006352  0.253510  0.334380  FIELD_0        FIELD\n",
      "2023-01-01  0.502975  0.905707  0.639097  FIELD_1        FIELD\n",
      "2023-01-02  0.004178  0.629150  0.481268  FIELD_1        FIELD\n",
      "2023-01-03  0.496677  0.654601  0.131449  FIELD_1        FIELD\n",
      "2023-01-04  0.416697  0.345486  0.008756  FIELD_1        FIELD\n",
      "2023-01-05  0.580836  0.668856  0.530297  FIELD_1        FIELD\n",
      "2023-01-06  0.070380  0.684240  0.281017  FIELD_1        FIELD\n",
      "2023-01-07  0.091380  0.883900  0.756975  FIELD_1        FIELD\n",
      "2023-01-08  0.366068  0.098088  0.831535  FIELD_1        FIELD\n",
      "2023-01-09  0.985253  0.264079  0.279700  FIELD_1        FIELD\n",
      "2023-01-10  0.532074  0.054404  0.431645  FIELD_1        FIELD\n",
      "2023-01-01  0.863015  0.123009  0.979457  FIELD_2      FIELD_0\n",
      "2023-01-02  0.705920  0.753926  0.885513  FIELD_2      FIELD_0\n",
      "2023-01-03  0.666413  0.404858  0.065751  FIELD_2      FIELD_0\n",
      "2023-01-04  0.496560  0.324370  0.838202  FIELD_2      FIELD_0\n",
      "2023-01-05  0.779392  0.320511  0.421887  FIELD_2      FIELD_0\n",
      "2023-01-06  0.911879  0.261678  0.270341  FIELD_2      FIELD_0\n",
      "2023-01-07  0.930243  0.619160  0.637143  FIELD_2      FIELD_0\n",
      "2023-01-08  0.417219  0.002452  0.163405  FIELD_2      FIELD_0\n",
      "2023-01-09  0.146987  0.924168  0.274344  FIELD_2      FIELD_0\n",
      "2023-01-10  0.923620  0.102007  0.828574  FIELD_2      FIELD_0\n",
      "2023-01-01  0.552010  0.464472  0.160646  FIELD_3      FIELD_1\n",
      "2023-01-02  0.650600  0.860325  0.176543  FIELD_3      FIELD_1\n",
      "2023-01-03  0.744592  0.847079  0.266711  FIELD_3      FIELD_1\n",
      "2023-01-04  0.891056  0.157164  0.075903  FIELD_3      FIELD_1\n",
      "2023-01-05  0.260307  0.685679  0.230563  FIELD_3      FIELD_1\n",
      "2023-01-06  0.082611  0.857084  0.015937  FIELD_3      FIELD_1\n",
      "2023-01-07  0.231557  0.820581  0.168713  FIELD_3      FIELD_1\n",
      "2023-01-08  0.979698  0.546011  0.913137  FIELD_3      FIELD_1\n",
      "2023-01-09  0.481121  0.794223  0.477819  FIELD_3      FIELD_1\n",
      "2023-01-10  0.021111  0.153758  0.142652  FIELD_3      FIELD_1\n",
      "2023-01-01  0.363399  0.638745  0.556505  FIELD_4      FIELD_1\n",
      "2023-01-02  0.884063  0.160489  0.617458  FIELD_4      FIELD_1\n",
      "2023-01-03  0.217110  0.280647  0.941271  FIELD_4      FIELD_1\n",
      "2023-01-04  0.802794  0.577687  0.067427  FIELD_4      FIELD_1\n",
      "2023-01-05  0.056224  0.706940  0.741210  FIELD_4      FIELD_1\n",
      "2023-01-06  0.064108  0.578821  0.176079  FIELD_4      FIELD_1\n",
      "2023-01-07  0.325944  0.243663  0.798246  FIELD_4      FIELD_1\n",
      "2023-01-08  0.688361  0.856874  0.929099  FIELD_4      FIELD_1\n",
      "2023-01-09  0.906576  0.839235  0.216429  FIELD_4      FIELD_1\n",
      "2023-01-10  0.199729  0.635037  0.489749  FIELD_4      FIELD_1\n"
     ]
    }
   ],
   "source": [
    "# Number of rows (dates) and columns (random numbers)\n",
    "num_rows = 10\n",
    "num_fields = 5\n",
    "\n",
    "columns = ['FGPR', 'FOPR', 'FWPR']\n",
    "dfs = []\n",
    "for i in range(num_fields):\n",
    "    # Generate random numbers\n",
    "    random_numbers = np.random.rand(num_rows, len(columns))\n",
    "    # Create a date range for the index\n",
    "    date_range = pd.date_range(start='2023-01-01', periods=num_rows, freq='D')\n",
    "\n",
    "    # Create the DataFrame\n",
    "    temp =pd.DataFrame(random_numbers, index=date_range, columns=columns)\n",
    "    temp ['FIELD'] = f'FIELD_{i}'\n",
    "    dfs.append(temp)\n",
    "\n",
    "# Concatenate the DataFrames\n",
    "df = pd.concat(dfs)\n",
    "mother_field = {'FIELD_0':'FIELD', 'FIELD_1':'FIELD', 'FIELD_2':'FIELD_0', 'FIELD_3':'FIELD_1','FIELD_4':'FIELD_1'}\n",
    "df['MOTHER_FIELD'] = df.FIELD.map(mother_field)\n",
    "# Display the DataFrame\n",
    "\n",
    "print(df)\n"
   ]
  },
  {
   "cell_type": "code",
   "execution_count": 4,
   "metadata": {},
   "outputs": [],
   "source": []
  },
  {
   "cell_type": "code",
   "execution_count": 6,
   "metadata": {},
   "outputs": [
    {
     "data": {
      "text/plain": [
       "DatetimeIndex(['2023-01-01', '2023-01-02', '2023-01-03', '2023-01-04',\n",
       "               '2023-01-05', '2023-01-06', '2023-01-07', '2023-01-08',\n",
       "               '2023-01-09', '2023-01-10'],\n",
       "              dtype='datetime64[ns]', freq=None)"
      ]
     },
     "execution_count": 6,
     "metadata": {},
     "output_type": "execute_result"
    }
   ],
   "source": [
    "df.index.unique()"
   ]
  },
  {
   "cell_type": "code",
   "execution_count": 52,
   "metadata": {},
   "outputs": [],
   "source": [
    "export_file = 'eclipse_schedule.sch'\n",
    "def make_schedule_function(df, export_file=export_file):\n",
    "    eclipse_date ={1:'JAN',2:'FEB',3:'MAR',\\\n",
    "    4:'APR',5:'MAY',6:'JUN',7:'JUL',\\\n",
    "        8:'AUG',9:'SEP',10:'OCT',11:'NOV',12:'DEC'}\n",
    "\n",
    "    with open(export_file, \"w\") as f:\n",
    "        f.write(\"------------------------------------------\\n\")\n",
    "        f.write(\"-- Automatic generation of the GRUPTREE --\\n\")\n",
    "        f.write(\"GRUPTREE \\n\")\n",
    "        for field in df['FIELD'].unique():\n",
    "           f.write(f\" '{field}'       '{df.loc[df.FIELD==field, 'MOTHER_FIELD'].unique()[0]}' / --fields to be tied in to FIELD \\n\")\n",
    "        f.write(\"/ \\n\")\n",
    "\n",
    "        f.write(\"------------------------------------------\\n\")\n",
    "        f.write(\"-- Automatic generation of the GSATPROD --\\n\")\n",
    "        f.write(\"-- Based on dummy exports-- \\n\")\n",
    "        f.write(\"------------------------------------------------ \\n\")\n",
    "        for selected_date in df.index.unique():\n",
    "            f.write(\"DATES \\n\")\n",
    "            f.write(f\"{selected_date.day}  {eclipse_date[selected_date.month]}  {selected_date.year}  / \\n\")\n",
    "            f.write(\"/ \\n\")\n",
    "            f.write(\"GSATPROD \\n\")\n",
    "            for field in df.FIELD.unique():\n",
    "                if not (df.loc[(df.index == selected_date)&(df.FIELD == field)]).empty :\n",
    "                    oil = df.loc[(df.index == selected_date) &(df.FIELD == field), 'FOPR'].values[0]\n",
    "                    gas = df.loc[(df.index == selected_date) &(df.FIELD == field), 'FGPR'].values[0]\n",
    "                    water = df.loc[(df.index == selected_date) &(df.FIELD == field), 'FWPR'].values[0]\n",
    "                    f.write(f\"'{field}'  {oil:.2f}  {gas:.2f}  {water:.2f}  3*  / \\n\")\n",
    "                f.write(\"/ \\n\")\n",
    "        print(\"file generated\")\n",
    "\n",
    "\n",
    "\n",
    "\n",
    "                        "
   ]
  },
  {
   "cell_type": "code",
   "execution_count": 53,
   "metadata": {},
   "outputs": [
    {
     "name": "stdout",
     "output_type": "stream",
     "text": [
      "file generated\n"
     ]
    }
   ],
   "source": [
    "make_schedule_function(df)"
   ]
  },
  {
   "cell_type": "code",
   "execution_count": 40,
   "metadata": {},
   "outputs": [
    {
     "data": {
      "text/plain": [
       "array(['FIELD'], dtype=object)"
      ]
     },
     "execution_count": 40,
     "metadata": {},
     "output_type": "execute_result"
    }
   ],
   "source": [
    "field ='FIELD_1'\n",
    "df.loc[df.FIELD==field, 'MOTHER_FIELD'].unique()"
   ]
  },
  {
   "cell_type": "code",
   "execution_count": 26,
   "metadata": {},
   "outputs": [
    {
     "data": {
      "text/plain": [
       "0.038326006463034745"
      ]
     },
     "execution_count": 26,
     "metadata": {},
     "output_type": "execute_result"
    }
   ],
   "source": [
    "df.loc[(df.index == df.index.unique()[0]) &(df.FIELD == field), 'FOPR'].values[0]"
   ]
  },
  {
   "cell_type": "code",
   "execution_count": 49,
   "metadata": {},
   "outputs": [
    {
     "data": {
      "text/plain": [
       "'FIELD'"
      ]
     },
     "execution_count": 49,
     "metadata": {},
     "output_type": "execute_result"
    }
   ],
   "source": [
    "df.loc[df.FIELD==field, 'MOTHER_FIELD'].unique()[0]"
   ]
  },
  {
   "cell_type": "code",
   "execution_count": null,
   "metadata": {},
   "outputs": [],
   "source": []
  }
 ],
 "metadata": {
  "kernelspec": {
   "display_name": "py312_venv_202406",
   "language": "python",
   "name": "python3"
  },
  "language_info": {
   "codemirror_mode": {
    "name": "ipython",
    "version": 3
   },
   "file_extension": ".py",
   "mimetype": "text/x-python",
   "name": "python",
   "nbconvert_exporter": "python",
   "pygments_lexer": "ipython3",
   "version": "3.12.3"
  }
 },
 "nbformat": 4,
 "nbformat_minor": 2
}
